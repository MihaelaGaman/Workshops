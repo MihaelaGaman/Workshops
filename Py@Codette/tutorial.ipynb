{
 "cells": [
  {
   "cell_type": "markdown",
   "metadata": {},
   "source": [
    "# Graphical User Interface Programming"
   ]
  },
  {
   "cell_type": "markdown",
   "metadata": {},
   "source": [
    "PyQt4 este modulul care conține toate funcțiile și clasele necesare tutorialului și proiectelor la care vom lucra astăzi."
   ]
  },
  {
   "cell_type": "code",
   "execution_count": 1,
   "metadata": {},
   "outputs": [],
   "source": [
    "# %qtconsole\n",
    "from PyQt4.QtGui import *\n",
    "import sys"
   ]
  },
  {
   "cell_type": "markdown",
   "metadata": {},
   "source": [
    "Haideți să vedem care sunt principalele elemente în creearea unei interfețe cu PyQt.\n",
    "Pentru început trebuie să avem un obiect de tip QApplication care să comunice cu sistemul de operare și să găsească un loc pe display ferestrei și celorlalte elemente de GUI pe care le vom creea.\n",
    "\n",
    "Apoi creem o fereastră pe care să așezăm diverse elemente de GUI mai târziu.\n",
    "Pentru creearea obiectului fereastră folosim constructorul clasei QMainWindow.\n",
    "\n",
    "Îi dăm ferestrei ce dimensiuni vrem noi și îi setăm un titlu apoi returnăm obiectul. "
   ]
  },
  {
   "cell_type": "code",
   "execution_count": 2,
   "metadata": {},
   "outputs": [],
   "source": [
    "def create_app():\n",
    "    # Create an PyQT4 application object.\n",
    "    app = QApplication(sys.argv) \n",
    "\n",
    "    # Add this line in order to be able to run this multiple times, without the kernel dying\n",
    "    app.aboutToQuit.connect(app.deleteLater)\n",
    "    return app\n",
    "\n",
    "def create_window():\n",
    "    # QMainWindow is the  constructor of the class with the same name\n",
    "    # So assigning this constructor to the variable window, we make window an object with class QMainWindow..\n",
    "    window = QMainWindow()\n",
    " \n",
    "    # ... this is how now the object window contains the method resize implemented in class QMainWindow\n",
    "    window.resize(500, 300)\n",
    " \n",
    "    # ... and we can also set a title for the window freshly created  \n",
    "    window.setWindowTitle(\"PyQT Python Widget!\") \n",
    "    \n",
    "    return window"
   ]
  },
  {
   "cell_type": "markdown",
   "metadata": {},
   "source": [
    "Acum suntem gata să creem un textbox în fereastra noastră.\n",
    "Pentru a face asta, avem clasa QLineEdit in PyQt."
   ]
  },
  {
   "cell_type": "code",
   "execution_count": 3,
   "metadata": {},
   "outputs": [],
   "source": [
    "def create_textbox(window):\n",
    "    # Create textbox \n",
    "    textbox = QLineEdit(window)\n",
    "    # Move the textbox so its upper-left corner is at position (20, 20) in the main window.\n",
    "    textbox.move(20, 20)\n",
    "    textbox.resize(100,40)\n",
    "    return textbox"
   ]
  },
  {
   "cell_type": "markdown",
   "metadata": {},
   "source": [
    "Un combo box este ca un drop-down list din care putem să selectăm dintr-o înșiruire de elemente."
   ]
  },
  {
   "cell_type": "code",
   "execution_count": 4,
   "metadata": {},
   "outputs": [],
   "source": [
    "def create_combo_box(window):\n",
    "    # Create combobox\n",
    "    combo = QComboBox(window)\n",
    "    combo.addItem(\"Python\")\n",
    "    combo.addItem(\"Perl\")\n",
    "    combo.addItem(\"Java\")\n",
    "    combo.addItem(\"Calendar\")\n",
    "    combo.move(20,100)\n",
    "    \n",
    "    return combo"
   ]
  },
  {
   "cell_type": "code",
   "execution_count": null,
   "metadata": {},
   "outputs": [],
   "source": [
    "def display_calendar():\n",
    "    # Create an PyQT4 application object.\n",
    "    a = QApplication(sys.argv)       \n",
    "\n",
    "    # The QWidget widget is the base class of all user interface objects in PyQt4.\n",
    "    w = QMainWindow()\n",
    "\n",
    "    # Set window size. \n",
    "    w.resize(320, 240)\n",
    "\n",
    "    # Set window title  \n",
    "    w.setWindowTitle(\"PyQT Python Widget!\") \n",
    "\n",
    "    # Create calendar\n",
    "    cal = QCalendarWidget(w)\n",
    "    cal.setGridVisible(True)\n",
    "    cal.move(0, 0)\n",
    "    cal.resize(320,240)    \n",
    "\n",
    "    # Show window\n",
    "    w.show() \n",
    "\n",
    "    a.exec_()"
   ]
  },
  {
   "cell_type": "code",
   "execution_count": 5,
   "metadata": {},
   "outputs": [
    {
     "data": {
      "text/plain": [
       "0"
      ]
     },
     "execution_count": 5,
     "metadata": {},
     "output_type": "execute_result"
    }
   ],
   "source": [
    "app = create_app()\n",
    "window = create_window()\n",
    "textbox = create_textbox(window)\n",
    "combo = create_combo_box(window)\n",
    "\n",
    "\n",
    "\n",
    "\n",
    "# Show window\n",
    "window.show() \n",
    " \n",
    "app.exec_()"
   ]
  },
  {
   "cell_type": "code",
   "execution_count": null,
   "metadata": {},
   "outputs": [],
   "source": []
  }
 ],
 "metadata": {
  "kernelspec": {
   "display_name": "Python 3",
   "language": "python",
   "name": "python3"
  },
  "language_info": {
   "codemirror_mode": {
    "name": "ipython",
    "version": 2
   },
   "file_extension": ".py",
   "mimetype": "text/x-python",
   "name": "python",
   "nbconvert_exporter": "python",
   "pygments_lexer": "ipython2",
   "version": "2.7.12+"
  }
 },
 "nbformat": 4,
 "nbformat_minor": 2
}
