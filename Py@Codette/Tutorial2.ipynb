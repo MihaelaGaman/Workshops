{
 "cells": [
  {
   "cell_type": "markdown",
   "metadata": {},
   "source": [
    "# GUI Programming in Python "
   ]
  },
  {
   "cell_type": "markdown",
   "metadata": {},
   "source": [
    "Mai jos avem cel mai simplu exemplu de a creea o interfață în Python și folosind funcționalitățile din PyQt4.\n",
    "PyQt este un API high-level, de aceea o să observați cum, în doar câteva linii de cod, programul nostru va realiza ceva vizibil.\n",
    "\n",
    "Este obigatoriu ca dacă vrem să folosim PyQt să creem, înainte de toate, un obiect aplicație. \n",
    "Pentru asta vom da iama-n clasa QApplication din QtGui. \n",
    "NOTĂ:\n",
    "    Acuma... faptul că zic eu clasă n-aș vrea să vă facă pe cele care ați gustat un pic de OOP și Java (nu cafeaua), să credeți că pe același principiu se merge. În Python orice este obiect. Și o clasă tot obiect este.\n",
    "    \n",
    "Faptul că folosim sys.argv acolo ca parametru, e o modalitate de a controla felul cum pornește scriptul nostru. Asta dacă îl rulăm din shell. Acel sys.argv semnifică de fapt o listă de argumente date din linia de comandă. \n",
    "\n",
    "O să observați aici că folosim și QtGui.QWidget care este de fapt clasa de bază pentru toate obiectele de tip user interfce din PyQt4."
   ]
  },
  {
   "cell_type": "code",
   "execution_count": 2,
   "metadata": {},
   "outputs": [],
   "source": [
    "#!/usr/bin/python\n",
    "# -*- coding: utf-8 -*-\n",
    "\n",
    "import sys\n",
    "from PyQt4 import QtGui, QtCore"
   ]
  },
  {
   "cell_type": "code",
   "execution_count": null,
   "metadata": {},
   "outputs": [],
   "source": [
    "def main():\n",
    "    # with any PyQt application, we need to create a QApplication object\n",
    "    app = QtGui.QApplication(sys.argv)\n",
    "\n",
    "    # then create a window\n",
    "    w = QtGui.QWidget()\n",
    "    # resize the window (x, y)\n",
    "    w.resize(500, 300)\n",
    "    # move it where you want on the screen\n",
    "    w.move(300, 300)\n",
    "    # set a title \n",
    "    w.setWindowTitle('A simple window. Does nothing.')\n",
    "    # and don't forget to show the window\n",
    "    w.show()\n",
    "    \n",
    "    # then exec the app or else nothing will happen :)\n",
    "    # here we enter the mainloop of the app, where event handling stars.\n",
    "    app.exec_()\n",
    "\n",
    "\n",
    "if __name__ == '__main__':\n",
    "    main()"
   ]
  },
  {
   "cell_type": "markdown",
   "metadata": {},
   "source": [
    "# Logo\n",
    "Bucata de cod de mai jos o să ne arate cum putem face o fereastră având și logo-ul aplicației pentru care facem GUI.\n",
    "Eu o să pun logo-ul codette aici, dar feel free să puneți orice :)\n",
    "\n",
    "O remarcă foarte importantă este în faptul că o să scriem acum în stil OOP (Object Oriented Programming).\n",
    "Când vorbim de GUI programming în general lucrurile se cam fac folosind OOP. Dar nu vă speriați chiar dacă nu ați învățat până acum nimic despre subiect. Vi se va explica la tablă tot ce aveți nevoie să știți pentru a realiza scopul workshop-ului de azi.\n",
    "\n",
    "La nivel general, cele mai importante trei chestii în OOP sunt: clasele, data și methodele (funcțiile de odată din programarea procedurală).\n",
    "\n",
    "Aici o să creem o nouă clasă denumită LogoExample. Clasa LogoExample o să moștenească pe QtGui.QWidget, care e și ea tot o clasă, dar deja implementată. Asta înseamnă că avem de chemat doi constructori: primul pentru LogoExample și al doilea pentru clasa pe care el o moștenește. Metoda super() returnează părintele obictului LogoExample și noi îi chemăm constructorul. Ca să facem asta folosim metoda-constructor __init__(). \n",
    "\n",
    "TODO:\n",
    "Chestia asta nu merge pe Ubuntu (n-o să avem icon acolo).\n",
    "Poate pe windows."
   ]
  },
  {
   "cell_type": "code",
   "execution_count": null,
   "metadata": {},
   "outputs": [],
   "source": [
    "class LogoExample(QtGui.QWidget):\n",
    "    \"\"\"\n",
    "    This is a class called LogoExample. \n",
    "    What we see b/w the brackets is the parent of this class, the class QWidget from the QtGui module.\n",
    "    In PyQt, only a window is a object directly of the class QWidget (has no parent).\n",
    "    \"\"\"\n",
    "    \n",
    "    def __init__(self):\n",
    "        \"\"\"\n",
    "        This is the constuctor of our class.\n",
    "        It has, first of all, to call the constructor of its parent, in order to be able to inherit all of its attributes.\n",
    "        \"\"\"\n",
    "        super(LogoExample, self).__init__()\n",
    "        \n",
    "        # we use self whenever we refer to the methods or variables of the current class.\n",
    "        self.initUI()\n",
    "        \n",
    "        \n",
    "    def initUI(self):\n",
    "        \"\"\"\n",
    "        Here is where happens the creation of the GUI.\n",
    "        \n",
    "        In order to advertise the fact that this method pertains to this class, we pass self as a parameter of the method.\n",
    "        The method will actually have zero parameters when it will be called.\n",
    "        The self parameter is there for us to be able to call the method as self.mehod_name().\n",
    "        \"\"\"\n",
    "        \n",
    "        # set size of the window and where will be positioned on screen.\n",
    "        self.setGeometry(500, 300, 250, 150)\n",
    "        # set window title\n",
    "        self.setWindowTitle('Py@Codette Loggoed Window Example')\n",
    "        # set icon/logo\n",
    "        path = \"/home/petrutsx/Documents/workshops_repo/Workshops/Py@Codette/\"\n",
    "        self.setWindowIcon(QtGui.QIcon(\"codette_logo.png\"))        \n",
    "    \n",
    "        self.show()\n",
    "        \n",
    "        \n",
    "def main():\n",
    "    \n",
    "    app = QtGui.QApplication(sys.argv)\n",
    "    ex = LogoExample()\n",
    "    app.exec_()\n",
    "\n",
    "\n",
    "if __name__ == '__main__':\n",
    "    main()    "
   ]
  },
  {
   "cell_type": "markdown",
   "metadata": {},
   "source": [
    "# Tooltip\n",
    "Arătăm un help despre ce face un buton, sau alt element in GUI.\n",
    "\n",
    "O să învățăm aici două chestii mari: cum să **creem un buton** și cum să-i **adăugăm tooltip**."
   ]
  },
  {
   "cell_type": "code",
   "execution_count": 2,
   "metadata": {},
   "outputs": [],
   "source": [
    "class ToolTipExample(QtGui.QWidget):\n",
    "    \n",
    "    def __init__(self):\n",
    "        super(ToolTipExample, self).__init__()\n",
    "        \n",
    "        self.initUI()\n",
    "        \n",
    "    def initUI(self):\n",
    "        # setFont: static method that sets a font used to render tooltips. \n",
    "        # In our case: 10px SansSerif font.\n",
    "        QtGui.QToolTip.setFont(QtGui.QFont('SansSerif', 10))\n",
    "        # Set tooltip for the window.\n",
    "        self.setToolTip('This is a <b>QWidget</b> widget')\n",
    "        \n",
    "        # Create a push button\n",
    "        btn = QtGui.QPushButton('Button', self)\n",
    "        # Set tooltip. Rich text format can also be used.\n",
    "        btn.setToolTip('This is a <b>QPushButton</b> widget')\n",
    "        # sizeHint() ne zice cam care e dim recomandată pt tooltip\n",
    "        btn.resize(btn.sizeHint())\n",
    "        btn.move(50, 50)       \n",
    "        \n",
    "        self.setGeometry(300, 300, 250, 150)\n",
    "        self.setWindowTitle('Py@Codette Tooltips')    \n",
    "        self.show()\n",
    "        \n",
    "def main():\n",
    "    \n",
    "    app = QtGui.QApplication(sys.argv)\n",
    "    ex = ToolTipExample()\n",
    "    app.exec_()\n",
    "\n",
    "\n",
    "if __name__ == '__main__':\n",
    "    main()"
   ]
  },
  {
   "cell_type": "markdown",
   "metadata": {},
   "source": [
    "# Quit Buttons\n",
    "\n",
    "Evident că, pentru a închide o aplicație, în general, vom apăsa pe x-ul de pe bara de sus.\n",
    "În acest exemplu vom învăța și **cum să închidem programatic o fereastră.**\n",
    "\n",
    "Folosim constructorul lui **QPushButton** ca să ne realizăm scopul aici:\n",
    "QPushButton(string text, QWidget parent = None)\n",
    "\n",
    "Parametrul text ne dă textul ce va fi afișat pe buton. Părintele în cazul nostru e QtGui.QWidget, adică fereastra în care vom afișa butonul.\n",
    "\n",
    "Tangențial o să avem treabă aici și cu semnale și slot-uri.\n",
    "Sistemul de procesare a evenimentelor în PyQt4 este bazat pe mecanismul cu semnale și sloturi:\n",
    "    - un **semnal** este emis când dăm click pe un buton de exemplu. Acest semnal fiind *clicked*. \n",
    "    - un **slot** poate să fie un slot special din Qt sau orice funcție pe care o implementăm noi în python ca să facă handle evenimentului nostru. \n",
    "    \n",
    "În QtCore.QCoreApplication avem the main event loop. Aici sunt procesate și dispatched toate evenimentele. Metoda instance() ne dă instanța curentă a evenimentului. "
   ]
  },
  {
   "cell_type": "code",
   "execution_count": 2,
   "metadata": {},
   "outputs": [],
   "source": [
    "class QuitButtonExample(QtGui.QWidget):\n",
    "    \n",
    "    def __init__(self):\n",
    "        super(QuitButtonExample, self).__init__()\n",
    "        \n",
    "        self.initUI()\n",
    "        \n",
    "    def initUI(self):               \n",
    "        # Create a push button with label 'Quit', and use the current class as parent (current widget)\n",
    "        # ... don't forget that the parent is the window where we display the button. \n",
    "        qbtn = QtGui.QPushButton('Quit', self)\n",
    "        # The clicked signal is connected to the quit() method which terminates the application. \n",
    "        # The communication is done between two objects: the sender and the receiver. \n",
    "        # The sender is the push button, the receiver is the application object. \n",
    "        qbtn.clicked.connect(QtCore.QCoreApplication.instance().quit)\n",
    "        qbtn.resize(qbtn.sizeHint())\n",
    "        qbtn.move(50, 50)       \n",
    "        \n",
    "        self.setGeometry(300, 300, 250, 150)\n",
    "        self.setWindowTitle('Quit button')    \n",
    "        self.show()\n",
    "        \n",
    "def main():\n",
    "    \n",
    "    app = QtGui.QApplication(sys.argv)\n",
    "    ex = QuitButtonExample()\n",
    "    app.exec_()\n",
    "\n",
    "\n",
    "if __name__ == '__main__':\n",
    "    main()"
   ]
  },
  {
   "cell_type": "markdown",
   "metadata": {},
   "source": [
    "## Message Box\n",
    "\n",
    "By default, if we click on the x button on the titlebar, the QtGui.QWidget is closed. Sometimes we want to modify this default behaviour. For example, if we have a file opened in an editor to which we did some changes. We show a message box to confirm the action. \n",
    "\n",
    "If we close a QtGui.QWidget, a QtGui.QCloseEvent is generated. To modify the widget behaviour we need to reimplement the closeEvent() event handler. \n",
    "\n",
    "We show a message box with two buttons: Yes and No. The first string appears on the titlebar. The second string is the message text displayed by the dialog. The third argument specifies the combination of buttons appearing in the dialog. The last parameter is the default button. It is the button which has initially the keyboard focus. The return value is stored in the reply variable. \n",
    "\n",
    "Here we test the return value. If we click the Yes button, we accept the event which leads to the closure of the widget and to the termination of the application. Otherwise we ignore the close event. "
   ]
  },
  {
   "cell_type": "code",
   "execution_count": 3,
   "metadata": {},
   "outputs": [
    {
     "ename": "SystemExit",
     "evalue": "0",
     "output_type": "error",
     "traceback": [
      "An exception has occurred, use %tb to see the full traceback.\n",
      "\u001b[0;31mSystemExit\u001b[0m\u001b[0;31m:\u001b[0m 0\n"
     ]
    },
    {
     "name": "stderr",
     "output_type": "stream",
     "text": [
      "/usr/local/lib/python2.7/dist-packages/IPython/core/interactiveshell.py:2890: UserWarning: To exit: use 'exit', 'quit', or Ctrl-D.\n",
      "  warn(\"To exit: use 'exit', 'quit', or Ctrl-D.\", stacklevel=1)\n"
     ]
    }
   ],
   "source": [
    "class Example(QtGui.QWidget):\n",
    "    \n",
    "    def __init__(self):\n",
    "        super(Example, self).__init__()\n",
    "        \n",
    "        self.initUI()\n",
    "        \n",
    "        \n",
    "    def initUI(self):               \n",
    "        \n",
    "        self.setGeometry(300, 300, 250, 150)        \n",
    "        self.setWindowTitle('Message box')    \n",
    "        self.show()\n",
    "        \n",
    "        \n",
    "    def closeEvent(self, event):\n",
    "        \n",
    "        reply = QtGui.QMessageBox.question(self, 'Message',\n",
    "            \"Are you sure to quit?\", QtGui.QMessageBox.Yes | \n",
    "            QtGui.QMessageBox.No, QtGui.QMessageBox.No)\n",
    "\n",
    "        if reply == QtGui.QMessageBox.Yes:\n",
    "            event.accept()\n",
    "        else:\n",
    "            event.ignore()        \n",
    "        \n",
    "        \n",
    "def main():\n",
    "    \n",
    "    app = QtGui.QApplication(sys.argv)\n",
    "    ex = Example()\n",
    "    app.exec_()\n",
    "\n",
    "\n",
    "if __name__ == '__main__':\n",
    "    main()"
   ]
  },
  {
   "cell_type": "code",
   "execution_count": null,
   "metadata": {},
   "outputs": [],
   "source": []
  }
 ],
 "metadata": {
  "kernelspec": {
   "display_name": "Python 3",
   "language": "python",
   "name": "python3"
  },
  "language_info": {
   "codemirror_mode": {
    "name": "ipython",
    "version": 2
   },
   "file_extension": ".py",
   "mimetype": "text/x-python",
   "name": "python",
   "nbconvert_exporter": "python",
   "pygments_lexer": "ipython2",
   "version": "2.7.12+"
  }
 },
 "nbformat": 4,
 "nbformat_minor": 2
}
