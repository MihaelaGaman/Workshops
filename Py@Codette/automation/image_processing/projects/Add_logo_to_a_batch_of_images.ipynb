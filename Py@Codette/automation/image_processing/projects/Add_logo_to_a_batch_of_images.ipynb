{
 "cells": [
  {
   "cell_type": "markdown",
   "metadata": {},
   "source": [
    "# Add logo to a batch of images"
   ]
  },
  {
   "cell_type": "markdown",
   "metadata": {},
   "source": [
    "Haideți să vedem cum putem automatiza munca plictisitoare pe care o presupune  adăugarea unui logo la un grup de imagini. După cum vă imaginați, a face asta de mână într-un program free poate dura destul de mult, și, în plus, este o treabă destul de plictisitoare.\n",
    "Iar programe precum Photoshop sau Lightroom costă destul de mult și nu sunt chiar super-ușor de folosit instant."
   ]
  },
  {
   "cell_type": "markdown",
   "metadata": {},
   "source": [
    "Pasul 1: \n",
    "Aici ar trebui să răspundem la întrebările:\n",
    "    - Ce logo și de unde? \n",
    "    - Care este directorul de unde ne luăm imaginile de procesat în \"grup\"? \n",
    "    - Unde vrem să salvăm aceste imagini?"
   ]
  },
  {
   "cell_type": "code",
   "execution_count": 1,
   "metadata": {
    "collapsed": false
   },
   "outputs": [
    {
     "name": "stdout",
     "output_type": "stream",
     "text": [
      "Will the logo be smaller than original? smaller/bigger/same : same\n"
     ]
    }
   ],
   "source": [
    "# TODO 1 - import modules useful in current dir change and containing image processing useful methods\n",
    "from PIL import Image\n",
    "import os\n",
    "\n",
    "# TODO 2 - save in a variable the path to the directory where we want to take the images from\n",
    "from_dir = \"C:\\\\Users\\\\mgaman\\\\Pictures\\\\pycodette_reduced\"\n",
    "os.chdir(from_dir)\n",
    "\n",
    "# TODO 3 - Keep a list of image objects all from this dir having extension .jpg, .jpeg, .png \n",
    "# NOTE: we do not care if the extension is uppercase or lower case. \n",
    "# All of these cases should be considered as images\n",
    "to_be_proc_list = []\n",
    "im_names = []\n",
    "for filename in os.listdir(from_dir):\n",
    "    if filename.endswith(\".jpg\") or filename.endswith(\".png\") \\\n",
    "    or filename.endswith(\".jpeg\") or filename.endswith(\".JPG\"):\n",
    "        to_be_proc_list.append(Image.open(filename)) \n",
    "        im_names.append(filename)\n",
    "        \n",
    "#print(im_names)\n",
    "\n",
    "# TODO 4 - logo directory & name + scale size of logo\n",
    "#          TODO 4.1: get as input from user the logo path\n",
    "# logo_dir = input(\"Introduce the path to the directory of the log image file: \")\n",
    "logo_path = \"C:\\\\Users\\\\mgaman\\\\Downloads\\\\logo-text.png\"\n",
    "#          TODO 4.2: Associate an object that can be used in our program, with the image at this path\n",
    "logo_initial_obj = Image.open(logo_path)\n",
    "#          TODO 4.3: Ask the user if it is upscale or down scale and by how much (width, height)\n",
    "smaller = input(\"Will the logo be smaller than original? smaller/bigger/same : \")\n",
    "w, h = logo_initial_obj.size\n",
    "if smaller == \"smaller\":\n",
    "    scale_factor_w = int(input(\"By how much to reduce the weight? \"))\n",
    "    scale_factor_h = int(input(\"By how much to reduce the height? \"))\n",
    "    w, h = w / scale_factor_w, h / scale_factor_h\n",
    "elif smaller == \"bigger\":\n",
    "    scale_factor_w = int(input(\"By how much to reduce the weight? \"))\n",
    "    scale_factor_h = int(input(\"By how much to reduce the height? \"))\n",
    "    w, h = w * scale_factor_w, h * scale_factor_h\n",
    "\n",
    "#          TODO 4.4: Build another object with the original logo resized to what's better for us\n",
    "logo_obj = logo_initial_obj.resize((int(w), int(h)))\n",
    "\n",
    "# TODO 5 - Where do I save the new images?\n",
    "#          TODO 5.1 - set the path to the directory where to copy the modified images\n",
    "to_dir_path = \"C:\\\\Users\\\\mgaman\\\\Pictures\"\n",
    "# Change current directory to the value of this path\n",
    "os.chdir(to_dir_path)\n",
    "\n",
    "#          TODO 5.2 - introduce directory name at this path. \n",
    "#                     If the directory with the name introduced does not exist, create it.\n",
    "to_dir_name = \"pycodette_loggoed\"\n",
    "if not os.path.exists(to_dir_name):\n",
    "    os.makedirs(to_dir_name)\n",
    "# Change directory to the created dir\n",
    "os.chdir(to_dir_name)"
   ]
  },
  {
   "cell_type": "markdown",
   "metadata": {},
   "source": [
    "Pasul 2: Salvăm imaginile găsite anterior, dar cu paste la logo în colțul din stânga sus."
   ]
  },
  {
   "cell_type": "code",
   "execution_count": 2,
   "metadata": {
    "collapsed": true
   },
   "outputs": [],
   "source": [
    "# TODO 6 - create a new list of image objects\n",
    "img_processed_list = []\n",
    "import copy\n",
    "\n",
    "# TODO 7 - iterate through the list of images to be processed\n",
    "# Hint: use for\n",
    "for i in range(len(to_be_proc_list)):\n",
    "    img = to_be_proc_list[i]\n",
    "    img_new = copy.deepcopy(img)\n",
    "    img_new.paste(logo_obj, (0, 0))\n",
    "    \n",
    "    # Save the new image into the current working directory\n",
    "    img_new.save(im_names[i])"
   ]
  }
 ],
 "metadata": {
  "anaconda-cloud": {},
  "kernelspec": {
   "display_name": "Python [conda root]",
   "language": "python",
   "name": "conda-root-py"
  },
  "language_info": {
   "codemirror_mode": {
    "name": "ipython",
    "version": 3
   },
   "file_extension": ".py",
   "mimetype": "text/x-python",
   "name": "python",
   "nbconvert_exporter": "python",
   "pygments_lexer": "ipython3",
   "version": "3.5.2"
  }
 },
 "nbformat": 4,
 "nbformat_minor": 1
}
