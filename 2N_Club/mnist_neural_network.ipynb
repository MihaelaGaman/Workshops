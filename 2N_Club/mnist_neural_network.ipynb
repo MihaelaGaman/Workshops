{
  "nbformat": 4,
  "nbformat_minor": 0,
  "metadata": {
    "colab": {
      "name": "mnist_neural_network.ipynb",
      "version": "0.3.2",
      "provenance": [],
      "collapsed_sections": []
    },
    "kernelspec": {
      "display_name": "Python 3",
      "language": "python",
      "name": "python3"
    }
  },
  "cells": [
    {
      "metadata": {
        "id": "Qb60ApNrsIAt",
        "colab_type": "text"
      },
      "cell_type": "markdown",
      "source": [
        "# Recunoașterea Cifrelor Scrise de Mână\n",
        "\n",
        "### Setul de date MNIST\n",
        "\n",
        "MNIST este un set de date compus din diverse imagini cu cifrele de la 0 la 9 scrise de mână. Această aplicație a rețelelor neurale este una extrem de populară în mediul academic și orice tentativă (auto)didactică implicând rețelele neurale. Motivul pentru aceasta este dat de faptul că avem un singur canal de culoare pentru imaginile ce compun MNIST (aceste imagini sunt alb-negru). Această proprietate ne simplifică destul de mult munca. Setul de date are și un număr rezonabil de exemple, atât pentru antrenare cât și de test. Prin urmare putem să facem antrenarea chiar și pe CPU, chit că durează mai mult.\n",
        "\n",
        "Putem lua setul acesta de date de aici: http://yann.lecun.com/exdb/mnist.\n",
        "\n",
        "Noi vom lucra cu setul de date simplificat, ce se găsește aici:\n",
        "- training set:\n",
        "    - 60,000 de exemple etichetate (labelled) pe care le vom folosi ca să ne antrenăm rețeaua:\n",
        "    https://pjreddie.com/media/files/mnist_train.csv\n",
        "    \n",
        "- test set:\n",
        "    - 10,000 de samples în setul pe care-l folosim pentru efectuarea de teste asupra rețelei, pentru a vedea cum evoluează ea și cum se îmbunătățesc rezultatele pe date pe care rețeaua nu le-a văzut în faza de antrenare.\n",
        "    https://pjreddie.com/media/files/mnist_test.csv\n",
        "    \n",
        "Structura celor două csv-uri (comma separated values) este, după cum urmează:\n",
        "- label: cifre de la 0 la 9 ---> cifra ce se regăsește în imagine de fapt.\n",
        "- valorile pixelilor din imagine. Vectorul de pixeli este 2D și are dimensiunile 28x28. Deci în csv vom observa 784 de valori după etichetă.\n",
        "\n",
        "### 1. Prelucrarea Datelor\n",
        "    1.1. Deschidem fișierele csv ce conțin datele și citim conținutul acestora apoi le închidem.\n",
        "    1.2. Folosim virgula ca separator și obținem un vector de elemente din fiecare linie citită. Convertim vectorul de 784 valori de pixeli într-o matrice 28x28. Apoi afișăm imaginea pentru a ne face o idee vizuală despre setul de date.\n",
        "    1.3. Transformăm valorile pixelilor din intervalul [0, 255] în [0, 1]. \n",
        "         Cum facem asta?\n",
        "       - împărțirea la 255 a output-urilor raw din intervalul [0, 255]. \n",
        "         => Astfel le aducem în intervalul [0, 1]. \n",
        "    1.4. Pe prima poziție din csv avem clasa căreia aparține elementul corect (ce imagine afișează acesta). \n",
        "         Vrem să avem un vector de probabilități, mai degrabă decât un singur număr. Astfel alegem un vector de 10 elemente ca și target (cel cu care vom compara output-ul rețelei). Vom avea 1 pe poziția corespunzătoare cifrei din imagine (label-ului) și 0 pe restul pozițiilor."
      ]
    },
    {
      "metadata": {
        "id": "Eb2UGzqLsIAy",
        "colab_type": "code",
        "colab": {
          "base_uri": "https://localhost:8080/",
          "height": 51
        },
        "outputId": "f0372c1e-5d99-4872-b905-25efa20c07ff"
      },
      "cell_type": "code",
      "source": [
        "import numpy as np\n",
        "import matplotlib.pyplot as plot\n",
        "import scipy.special\n",
        "import scipy.ndimage\n",
        "%matplotlib inline\n",
        "\n",
        "!ls mnist_train.csv || wget https://pjreddie.com/media/files/mnist_train.csv\n",
        "!ls mnist_test.csv || wget https://pjreddie.com/media/files/mnist_test.csv"
      ],
      "execution_count": 38,
      "outputs": [
        {
          "output_type": "stream",
          "text": [
            "mnist_train.csv\n",
            "mnist_test.csv\n"
          ],
          "name": "stdout"
        }
      ]
    },
    {
      "metadata": {
        "id": "bgLiSqCDsIA8",
        "colab_type": "code",
        "colab": {
          "base_uri": "https://localhost:8080/",
          "height": 299
        },
        "outputId": "95fddc38-7261-4d94-987b-6627d42a240b"
      },
      "cell_type": "code",
      "source": [
        "# 1.1. Read the data\n",
        "\n",
        "# i) Open the csv file containing the data\n",
        "train_data_file = open(\"mnist_train.csv\", \"r\")\n",
        "# ii) Read all the contents of the file as a list of lines (HINT: readlines)\n",
        "train_data_list = train_data_file.readlines()\n",
        "# iii) Close the file\n",
        "train_data_file.close()\n",
        "\n",
        "# How many samples?\n",
        "print(\"Total samples:\", len(train_data_list))\n",
        "\n",
        "# 1.2. Extract and reshape\n",
        "\n",
        "# i) What you've just read is lines (strings). Split by comma the values on line 10 to obtain a vector of pixels.\n",
        "all_values = train_data_list[10].split(',')\n",
        "\n",
        "# ii) We ignore the first value on the line, which is the label  => all_values[1:]\n",
        "#     Use asfarray to convert a string to a real number array. \n",
        "#     Do not forget that what we have read from the file is a string!\n",
        "#     Use reshape to make a matrix from the line => 28x28\n",
        "# HINT: np.asfarray, reshape\n",
        "image_array = np.asfarray(all_values[1:]).reshape((28, 28))\n",
        "\n",
        "# iii) Plot the image of this current handwritten digit\n",
        "# HINT: plot.imshow\n",
        "plot.imshow(image_array, cmap='Greys', interpolation=None)"
      ],
      "execution_count": 39,
      "outputs": [
        {
          "output_type": "stream",
          "text": [
            "Total samples: 60000\n"
          ],
          "name": "stdout"
        },
        {
          "output_type": "execute_result",
          "data": {
            "text/plain": [
              "<matplotlib.image.AxesImage at 0x7f09d8977278>"
            ]
          },
          "metadata": {
            "tags": []
          },
          "execution_count": 39
        },
        {
          "output_type": "display_data",
          "data": {
            "image/png": "[encoded data removed]",
            "text/plain": [
              "<matplotlib.figure.Figure at 0x7f09d8963c18>"
            ]
          },
          "metadata": {
            "tags": []
          }
        }
      ]
    },
    {
      "metadata": {
        "id": "t4OKQQ0msIBB",
        "colab_type": "code",
        "colab": {
          "base_uri": "https://localhost:8080/",
          "height": 2244
        },
        "outputId": "9af060d7-8a95-4f99-dea2-e8e7f07c628f"
      },
      "cell_type": "code",
      "source": [
        "# 1.3. Process the data\n",
        "#      Scale the pixel values from [0, 255] to the range [0.0, 1.0].\n",
        "# HINT: all_values[1:], np.asfarray\n",
        "scaled_input = (np.asfarray(all_values[1:]) / 255.0)\n",
        "print(scaled_input)"
      ],
      "execution_count": 40,
      "outputs": [
        {
          "output_type": "stream",
          "text": [
            "[0.         0.         0.         0.         0.         0.\n",
            " 0.         0.         0.         0.         0.         0.\n",
            " 0.         0.         0.         0.         0.         0.\n",
            " 0.         0.         0.         0.         0.         0.\n",
            " 0.         0.         0.         0.         0.         0.\n",
            " 0.         0.         0.         0.         0.         0.\n",
            " 0.         0.         0.         0.         0.         0.\n",
            " 0.         0.         0.         0.         0.         0.\n",
            " 0.         0.         0.         0.         0.         0.\n",
            " 0.         0.         0.         0.         0.         0.\n",
            " 0.         0.         0.         0.         0.         0.\n",
            " 0.         0.         0.         0.         0.         0.\n",
            " 0.         0.         0.         0.         0.         0.\n",
            " 0.         0.         0.         0.         0.         0.\n",
            " 0.         0.         0.         0.         0.         0.\n",
            " 0.         0.         0.         0.         0.         0.\n",
            " 0.         0.         0.         0.         0.         0.\n",
            " 0.         0.         0.         0.         0.         0.\n",
            " 0.         0.         0.         0.         0.         0.\n",
            " 0.         0.         0.         0.         0.         0.\n",
            " 0.         0.         0.         0.16470588 0.4627451  0.85882353\n",
            " 0.65098039 0.4627451  0.4627451  0.02352941 0.         0.\n",
            " 0.         0.         0.         0.         0.         0.\n",
            " 0.         0.         0.         0.         0.         0.\n",
            " 0.         0.         0.         0.         0.         0.\n",
            " 0.40392157 0.94901961 0.99607843 0.99607843 0.99607843 0.99607843\n",
            " 0.99607843 0.25882353 0.         0.         0.         0.\n",
            " 0.         0.         0.         0.         0.         0.\n",
            " 0.         0.         0.         0.         0.         0.\n",
            " 0.         0.         0.         0.         0.07058824 0.90980392\n",
            " 0.99607843 0.99607843 0.99607843 0.99607843 0.99607843 0.93333333\n",
            " 0.2745098  0.         0.         0.         0.         0.\n",
            " 0.         0.         0.         0.         0.         0.\n",
            " 0.         0.         0.         0.         0.         0.\n",
            " 0.         0.         0.         0.40784314 0.95686275 0.99607843\n",
            " 0.87843137 0.99607843 0.99607843 0.99607843 0.55294118 0.\n",
            " 0.         0.         0.         0.         0.         0.\n",
            " 0.         0.         0.         0.         0.         0.\n",
            " 0.         0.         0.         0.         0.         0.\n",
            " 0.         0.         0.81176471 0.99607843 0.82352941 0.99607843\n",
            " 0.99607843 0.99607843 0.13333333 0.         0.         0.\n",
            " 0.         0.         0.         0.         0.         0.\n",
            " 0.         0.         0.         0.         0.         0.\n",
            " 0.         0.         0.         0.         0.         0.\n",
            " 0.32941176 0.80784314 0.99607843 0.99607843 0.99607843 0.99607843\n",
            " 0.16078431 0.         0.         0.         0.         0.\n",
            " 0.         0.         0.         0.         0.         0.\n",
            " 0.         0.         0.         0.         0.         0.\n",
            " 0.         0.         0.         0.         0.         0.09411765\n",
            " 0.81960784 0.99607843 0.99607843 0.99607843 0.67058824 0.\n",
            " 0.         0.         0.         0.         0.         0.\n",
            " 0.         0.         0.         0.         0.         0.\n",
            " 0.         0.         0.         0.         0.         0.\n",
            " 0.         0.         0.35686275 0.5372549  0.99215686 0.99607843\n",
            " 0.99607843 0.99607843 0.43921569 0.         0.         0.\n",
            " 0.         0.         0.         0.         0.         0.\n",
            " 0.         0.         0.         0.         0.         0.\n",
            " 0.         0.         0.         0.         0.15686275 0.83921569\n",
            " 0.98039216 0.99607843 0.99607843 0.99607843 0.99607843 0.99607843\n",
            " 0.13333333 0.         0.         0.         0.         0.\n",
            " 0.         0.         0.         0.         0.         0.\n",
            " 0.         0.         0.         0.         0.         0.\n",
            " 0.         0.         0.31764706 0.96862745 0.99607843 0.99607843\n",
            " 0.99607843 0.99607843 0.99607843 0.99607843 0.57254902 0.\n",
            " 0.         0.         0.         0.         0.         0.\n",
            " 0.         0.         0.         0.         0.         0.\n",
            " 0.         0.         0.         0.         0.         0.\n",
            " 0.         0.43137255 0.96470588 0.99607843 0.99607843 0.99607843\n",
            " 0.99607843 0.99607843 0.67058824 0.         0.         0.\n",
            " 0.         0.         0.         0.         0.         0.\n",
            " 0.         0.         0.         0.         0.         0.\n",
            " 0.         0.         0.         0.         0.         0.\n",
            " 0.28627451 0.34901961 0.34901961 0.36470588 0.94117647 0.99607843\n",
            " 0.67058824 0.         0.         0.         0.         0.\n",
            " 0.         0.         0.         0.         0.         0.\n",
            " 0.         0.         0.         0.         0.         0.\n",
            " 0.         0.         0.         0.         0.         0.\n",
            " 0.         0.00392157 0.50196078 0.99607843 0.85882353 0.12156863\n",
            " 0.         0.         0.         0.         0.         0.\n",
            " 0.         0.         0.         0.         0.         0.\n",
            " 0.         0.         0.         0.         0.         0.\n",
            " 0.         0.         0.         0.         0.         0.02745098\n",
            " 0.99607843 0.99607843 0.83921569 0.10980392 0.         0.\n",
            " 0.         0.         0.         0.         0.         0.\n",
            " 0.         0.         0.         0.         0.         0.\n",
            " 0.         0.         0.         0.         0.         0.\n",
            " 0.         0.         0.         0.54117647 0.99607843 0.99607843\n",
            " 0.45490196 0.         0.         0.         0.         0.\n",
            " 0.         0.         0.         0.         0.         0.\n",
            " 0.         0.         0.         0.         0.0745098  0.69411765\n",
            " 0.35294118 0.         0.         0.         0.         0.\n",
            " 0.09803922 0.94117647 0.99607843 0.99607843 0.13333333 0.\n",
            " 0.         0.         0.         0.         0.         0.\n",
            " 0.         0.         0.         0.         0.         0.\n",
            " 0.         0.         0.64313725 0.99607843 0.84313725 0.24705882\n",
            " 0.14117647 0.         0.2        0.34901961 0.80784314 0.99607843\n",
            " 0.99607843 0.54509804 0.03137255 0.         0.         0.\n",
            " 0.         0.         0.         0.         0.         0.\n",
            " 0.         0.         0.         0.         0.         0.\n",
            " 0.22352941 0.77254902 0.99607843 0.99607843 0.87058824 0.70588235\n",
            " 0.94509804 0.99607843 0.99607843 0.99215686 0.83529412 0.04313725\n",
            " 0.         0.         0.         0.         0.         0.\n",
            " 0.         0.         0.         0.         0.         0.\n",
            " 0.         0.         0.         0.         0.         0.54901961\n",
            " 0.41176471 0.99607843 0.99607843 0.99607843 0.99607843 0.99607843\n",
            " 0.99607843 0.9254902  0.         0.         0.         0.\n",
            " 0.         0.         0.         0.         0.         0.\n",
            " 0.         0.         0.         0.         0.         0.\n",
            " 0.         0.         0.         0.         0.02745098 0.45882353\n",
            " 0.45882353 0.64705882 0.99607843 0.99607843 0.9372549  0.19607843\n",
            " 0.         0.         0.         0.         0.         0.\n",
            " 0.         0.         0.         0.         0.         0.\n",
            " 0.         0.         0.         0.         0.         0.\n",
            " 0.         0.         0.         0.         0.         0.\n",
            " 0.         0.         0.         0.         0.         0.\n",
            " 0.         0.         0.         0.         0.         0.\n",
            " 0.         0.         0.         0.         0.         0.\n",
            " 0.         0.         0.         0.         0.         0.\n",
            " 0.         0.         0.         0.         0.         0.\n",
            " 0.         0.         0.         0.         0.         0.\n",
            " 0.         0.         0.         0.         0.         0.\n",
            " 0.         0.         0.         0.         0.         0.\n",
            " 0.         0.         0.         0.         0.         0.\n",
            " 0.         0.         0.         0.         0.         0.\n",
            " 0.         0.         0.         0.         0.         0.\n",
            " 0.         0.         0.         0.         0.         0.\n",
            " 0.         0.         0.         0.         0.         0.\n",
            " 0.         0.         0.         0.         0.         0.\n",
            " 0.         0.         0.         0.         0.         0.\n",
            " 0.         0.         0.         0.         0.         0.\n",
            " 0.         0.         0.         0.        ]\n"
          ],
          "name": "stdout"
        }
      ]
    },
    {
      "metadata": {
        "id": "5MyEbcGosIBG",
        "colab_type": "code",
        "colab": {
          "base_uri": "https://localhost:8080/",
          "height": 34
        },
        "outputId": "a003a002-5666-45f0-fabe-6dc2a7f82a30"
      },
      "cell_type": "code",
      "source": [
        "# 1.4. Process the targets: \n",
        "# what can the sigmoid function output versus what would fit best our problem.\n",
        "# The number of output nodes is going to be 10 as we have 10 possible classes\n",
        "no_outputs = 10\n",
        "\n",
        "# Instead of using a single number [0, 9], we'd like a target vector (one-hot encoded).\n",
        "# Basically, we'd like to have:\n",
        "#      1 - for the index of the correct class\n",
        "#      0 - for all the other indexes of the incorrect classes\n",
        "# Example: For label 3, we'd like: [0, 0, 0, 1, 0, 0, 0, 0, 0]\n",
        "# HINT: np.zeros\n",
        "\n",
        "targets = np.zeros(no_outputs)\n",
        "targets[int(all_values[0])] = 1\n",
        "print(all_values[0], \"=>\", targets)"
      ],
      "execution_count": 41,
      "outputs": [
        {
          "output_type": "stream",
          "text": [
            "3 => [0. 0. 0. 1. 0. 0. 0. 0. 0. 0.]\n"
          ],
          "name": "stdout"
        }
      ]
    },
    {
      "metadata": {
        "id": "oTacxDQ0sIBK",
        "colab_type": "text"
      },
      "cell_type": "markdown",
      "source": [
        "### 2. Generalizarea procesării datelor\n",
        "\n",
        "Putem acum să generalizăm acest pas, făcând o funcţie care ne ia un path către fişierul de intrare şi ne salvează o matrice de dimensiunea (N, 28*28), aplicând procesările de mai sus."
      ]
    },
    {
      "metadata": {
        "id": "5ca2xt4_sIBL",
        "colab_type": "code",
        "colab": {
          "base_uri": "https://localhost:8080/",
          "height": 316
        },
        "outputId": "bfa9fb68-ad13-479f-ff0f-2e794b4d25bd"
      },
      "cell_type": "code",
      "source": [
        "def getData(filePath, numData=-1):\n",
        "    # Open file\n",
        "    data_file = open(filePath, 'r')\n",
        "    # Read lines\n",
        "    data = data_file.readlines()\n",
        "    # Close file\n",
        "    data_file.close()\n",
        "\n",
        "    # numData is the number of samples in the dataset\n",
        "    numData = len(data) if numData == -1 else numData\n",
        "    \n",
        "    # Zeroise the input vector: numData x 784\n",
        "    x = np.zeros((numData, 784))[0 : numData]\n",
        "    # Zeroise the target vector: numData x 10\n",
        "    t = np.zeros((numData, 10))[0 : numData]\n",
        "\n",
        "    # For each sample in the dataset\n",
        "    for i in range(numData):\n",
        "        # Split by ','\n",
        "        item = data[i].split(',')\n",
        "        # Scale the inputs (item[1:]) by 255. They need to fit in the [0, 1] range\n",
        "        item_x = (np.asfarray(item[1:]) / 255.0)\n",
        "        x[i] = item_x\n",
        "        item_t = int(item[0])\n",
        "        t[i, item_t] = 1\n",
        "    return x, t\n",
        "\n",
        "# Get the train data\n",
        "train_x, train_t = getData(\"mnist_train.csv\")\n",
        "\n",
        "# Same for the test data\n",
        "val_x, val_t = getData(\"mnist_test.csv\")\n",
        "\n",
        "# Get an idea about how things look like in the dataset\n",
        "print(train_x.shape, train_t.shape)\n",
        "print(val_x.shape, val_t.shape)\n",
        "\n",
        "# We'll just plot somthing for the fun of it\n",
        "randomIndex = np.random.randint(0, len(train_x))\n",
        "image_array = train_x[randomIndex].reshape((28, 28))\n",
        "plot.imshow(image_array, cmap='Greys', interpolation=None)"
      ],
      "execution_count": 42,
      "outputs": [
        {
          "output_type": "stream",
          "text": [
            "(60000, 784) (60000, 10)\n",
            "(10000, 784) (10000, 10)\n"
          ],
          "name": "stdout"
        },
        {
          "output_type": "execute_result",
          "data": {
            "text/plain": [
              "<matplotlib.image.AxesImage at 0x7f09d88d1cf8>"
            ]
          },
          "metadata": {
            "tags": []
          },
          "execution_count": 42
        },
        {
          "output_type": "display_data",
          "data": {
            "image/png": "[encoded data removed]",
            "text/plain": [
              "<matplotlib.figure.Figure at 0x7f09d89d85f8>"
            ]
          },
          "metadata": {
            "tags": []
          }
        }
      ]
    },
    {
      "metadata": {
        "id": "IxuEHRfAsIBP",
        "colab_type": "text"
      },
      "cell_type": "markdown",
      "source": [
        "\n",
        "### 2. Structura Rețelei\n",
        "\n",
        "Problema recunoașterii cifrelor scrise de mână este o provocare destul de bună cu care să testăm puterea unei rețele neurale. Asta pentru că deja vorbim de a recunoaște ce conține o imagine, cât și despre fuzzyness. Nu este foarte clar cum am putea rezolva problema asta cu un set de reguli dat sau în orice alt fel cu metode computaționale.\n",
        "\n",
        "    2.1. Definim funcțiile de activare & adiacentele:\n",
        "         2.1.1. sigmoida - va trebui să o găsiți voi printre funcționalitățile oferite de scipy.special.\n",
        "         2.1.2. derivata sigmoidei\n",
        "         2.1.3. softmax - aici este necesară o implementare manuală, care lucrează pe batches.\n",
        "         \n",
        "    2.2. Inițializăm rețeaua: stabilim o formă pentru aceasta:\n",
        "         2.2.1. număr de neuroni pe stratul de intrare (no_input), ascuns (no_hidden) și de ieșire (no_output)\n",
        "         2.2.2. matricea de ponderi o determinăm dintr-o distribuție normală cu media aproape zero și std dev = 0.5. \n",
        "                Hint: numpy.random.normal.\n",
        "                În cazul nostru vorbim despre două matrice de ponderi: \n",
        "                 W1 - pentru legăturile dintre stratul de intrare și cel ascuns și \n",
        "                 W2 - pentru legăturile dintre stratul ascuns și cel de ieșire.\n",
        "         2.2.3. Fiecare matrice de ponderi va avea la rândul ei o matrice de gradienţi, care vor fi modificaţi în timpul antrenării. Trebuie să fim foarte antenți ca atunci când ponderile (W1, W2) se modifică, gradienţii se resetează la 0, altfel riscăm să creştem la fiecare pas valorile acestora şi să pierdem controlul asupra reţelei.\n",
        "\n",
        "----------------------------------------------------------------------------------------------------------------------\n",
        "    O sumarizare a funcţionării reţelei este următoarea:\n",
        "    I: (MB, 786)\n",
        "    W1: (786, 100)\n",
        "    W2: (100, 10)\n",
        "\n",
        "    y1 = IxW1 : (MB, 786) x (786, 100) => (MB, 100)\n",
        "    a1 = sigmoid(y1) : (MB, 100)\n",
        "\n",
        "    y2 = a1xW2 : (MB, 100) x (100, 10) = (MB, 10)\n",
        "    a2 = softmax(y2) : (MB, 10)\n",
        "\n",
        "    E = NLL(a2, T) : (MB, 1) (This is called negative log likelihood or (multi class) cross entropy loss)\n",
        "----------------------------------------------------------------------------------------------------------------------\n",
        "\n",
        "    2.3. Forward:\n",
        "         2.3.1. y1 = I * W1\n",
        "         2.3.2. a1 = sigmoid(y1)\n",
        "         2.3.3. y2 = a1 * W2\n",
        "         2.3.4. a2 = softmax(y2)\n",
        "         2.3.5. E = NLL(a2, T)\n",
        "\n",
        "    2.4. Backward:\n",
        "         2.4.1. dE/da2 = can be skipped\n",
        "         2.4.2. dE/dy2 = dE/da2 * da2/dy2\n",
        "                       = NLL'(a2, T) * softmax'(y2) (here we skip demonstration for this)\n",
        "                       = (a2 - T) : (MB, 10)\n",
        "         2.4.3. dE/dW2 = dE/dy2 * dy2/dW2 : (MB, 10) x (MB, 100) => (100, 10)\n",
        "                       = (a2 - T) * a1\n",
        "         2.4.4. dE/da1 = dE/dy2 * dy2/da1 : (MB, 10) x (100, 10) => (MB, 100)\n",
        "                       = (a2 - T) * W2\n",
        "         2.4.5. dE/dy1 = dE/da1 * da1/dy1 : (MB, 100) x (MB, 100) => (MB, 100)\n",
        "                       = (a2 - T) * W2 * sigmoid'(y1)\n",
        "                       = (a2 - T) * W2 * y1 * (1 - y1)\n",
        "         2.4.6. dE/dW1 = dE/dy1 * dy1/dW1 : (MB, 100) x (786, 100) => (786, 100) \n",
        "                       = (a2 - T) * W2 * y1 * (1 - y1) * I\n",
        "\n",
        "    2.5. Testăm rețeaua. Treaba asta se reduce la o propagare înainte a input-urilor folosind ultimul checkpoint sau cel mai bun checkpoint.     "
      ]
    },
    {
      "metadata": {
        "id": "q6hUSU8OsIBP",
        "colab_type": "code",
        "colab": {}
      },
      "cell_type": "code",
      "source": [
        "# 2.1. Activation functions\n",
        "\n",
        "def sigmoid(x):\n",
        "    # 2.1.1. Implement the sigmoid function\n",
        "    # Hint scipy.special function\n",
        "    return scipy.special.expit(x)\n",
        "\n",
        "def grad_sigmoid(y):\n",
        "    # 2.1.2. Implement the derivative of the sigmoid function.\n",
        "    # We have multiple ways to compute this, some more efficient than others.\n",
        "    # A recomandation is to clip this value to some fixed interval, [-50, 50] for example, \n",
        "    # so our network doesn't diverge.\n",
        "    # Hint: https://math.stackexchange.com/questions/78575/derivative-of-sigmoid-function-sigma-x-frac11e-x\n",
        "    grad = y * (1 - y)\n",
        "    return np.clip(grad, -50, 50)\n",
        "\n",
        "def softmax(x):\n",
        "    # 2.1.3. Implement softmax.\n",
        "    # This needs to be batched, so careful with axes. \n",
        "    # Basically, we'll get a matrix of shape: (MB, 10), and we'd like to apply the operator to each line \n",
        "    # independently (not the entire matrix). We offer a few fixes for numerical stability.\n",
        "    # Apply softmax on this new input.\n",
        "    x_new = x - np.max(x, axis=1, keepdims=True)\n",
        "    x_new = np.clip(x_new, -200, np.inf)\n",
        "    exp_inputs = np.exp(x_new)\n",
        "    y = exp_inputs / np.sum(exp_inputs, axis=1, keepdims=True)\n",
        "    return y\n",
        "\n",
        "class NeuralNetwork:\n",
        "    def __init__(self, no_input, no_hidden, no_output):\n",
        "        \n",
        "        # 2.2. Initialize the weights\n",
        "        \n",
        "        # 2.2.1. Set number of nodes in each layer\n",
        "        self.no_input = no_input\n",
        "        self.no_hidden = no_hidden\n",
        "        self.no_output = no_output\n",
        "        \n",
        "        # 2.2.2. Matrices of link weights (b/w input and hidden layer and b/w hidden and output layer)\n",
        "        # Hint: np.random.randn\n",
        "        self.W1 = np.random.randn(self.no_input, self.no_hidden)\n",
        "        self.W2 = np.random.randn(self.no_hidden, self.no_output)\n",
        "\n",
        "        # 2.2.3. Matrices for gradients of each weight.\n",
        "        self.dW1 = np.zeros((self.no_input, self.no_hidden))\n",
        "        self.dW2 = np.zeros((self.no_hidden, self.no_output))\n",
        "\n",
        "    def forward_pass(self, inputs):\n",
        "        # 2.3. The forward pass: from the input layer to the outputs.\n",
        "\n",
        "        # 2.3.1. Compute the inputs of the hidden layer: X_hidden = W1 * I\n",
        "        # HINT: np.dot\n",
        "        #       (1, 784) x (784, 100) = (1, 100)\n",
        "        y1 = np.dot(inputs, self.W1)\n",
        "        \n",
        "        # 2.3.2. Non-linearity (sigmoid) for the intermediate outputs\n",
        "        a1 = sigmoid(y1)\n",
        "\n",
        "        # 2.3.3. Compute the inputs in the hidden layer\n",
        "        # HINT: a1 * W2\n",
        "        y2 = np.dot(a1, self.W2)\n",
        "        \n",
        "        # 2.3.4. Compute the outputs (probabilities)\n",
        "        a2 = softmax(y2)\n",
        "\n",
        "        return inputs, y1, a1, y2, a2\n",
        "\n",
        "    def loss(self, outputs, targets):\n",
        "        T = targets\n",
        "        \n",
        "        # 2.3.5. Compute the loss (1 number) using cross entropy\n",
        "        # Hint: https://stats.stackexchange.com/questions/260505/machine-learning-should-i-use-a-categorical-cross-entropy-or-binary-cross-entro :)\n",
        "        numItems = T.shape[0]\n",
        "        E = T * np.log(outputs[-1] + 1e-7)\n",
        "        E = -np.mean(np.sum(E, axis=1))\n",
        "        return E        \n",
        "\n",
        "    def backward(self, outputs, targets):\n",
        "        # 2.4. Backpropagation\n",
        "        \n",
        "        I, y1, a1, y2, a2 = outputs\n",
        "        T = targets\n",
        "        E = self.loss(outputs, targets)\n",
        "        \n",
        "        # 2.4.1. Skipped\n",
        "\n",
        "        # 2.4.2. Compute dE/dy2, which is the derivative of the last layer\n",
        "        # dE/dy2 = dE/da2 * da2/dy2 = deriv(NLL) * deriv(softmax) = (T - O)\n",
        "        dEdy2 = (a2 - T)\n",
        "\n",
        "        # 2.4.3. Compute dE/dW2 and accumulate gradients for this layer\n",
        "        # dE/dW2 = dE/dy2 * dy2/dW2 = (T - a2) * a1\n",
        "        # (MB, 10) x (MB, 100) => (10, MB) x (MB, 100) => (10, 100) => (100, 10)\n",
        "        # dEdW2 = (T - a2)\n",
        "        dEdW2 = np.dot(dEdy2.T, a1).T\n",
        "        self.dW2 += dEdW2 / len(targets)\n",
        "\n",
        "        # 2.4.4. Compute dE/da1, which is the derivative of the first layer\n",
        "        # dE/da1 = dE/dy2 * dy2/da1\n",
        "        dEda1 = np.dot(dEdy2, self.W2.T)\n",
        "\n",
        "        # 2.4.5. Compute dE/dy1 = dE/da1 * da1/dy1\n",
        "        # da1/dy1 = sigmoid'(y1) = y1 * (1 - y1)\n",
        "        dEdy1 = dEda1 * grad_sigmoid(a1)\n",
        "\n",
        "        # 2.4.6. Compute dE/dw1 = dE/dy1 * dy1/dw1\n",
        "        # dy1/dw1 = I\n",
        "        # Shapes: (1, 100) x (1, 784) => (100, 1) x (1, 784) => (100, 784) => (784, 100)\n",
        "        dEdw1 = np.dot(dEdy1.T, I).T\n",
        "        self.dW1 += dEdw1 / len(targets)\n",
        "\n",
        "        return E\n",
        "\n",
        "    def optimize(self, lr, debug):\n",
        "        self.W1 -= lr * self.dW1\n",
        "        self.W2 -= lr * self.dW2\n",
        "        self.dW1 *= 0\n",
        "        self.dW2 *= 0\n",
        "\n",
        "    def evaluate(self, x, t):\n",
        "        # 2.5. Compute the performance of the network\n",
        "        correct = 0\n",
        "        loss = 0\n",
        "        \n",
        "        # 2.5.1. For each sample in the test set\n",
        "        for i in range(len(x)):\n",
        "            # inputs\n",
        "            inputs = np.expand_dims(x[i], axis=0)\n",
        "            # targets\n",
        "            targets = np.expand_dims(t[i], axis=0)\n",
        "            # compute the outputs (forward pass)\n",
        "            outputs = self.forward_pass(inputs)\n",
        "            \n",
        "            # compute the loss = last loss scaled with 0.999 + current loss\n",
        "            loss = loss * 0.999 + self.loss(outputs, targets)\n",
        "            \n",
        "            indexOutput = np.argmax(outputs[-1], axis=1)\n",
        "            indexTarget = np.argmax(targets, axis=1)\n",
        "            \n",
        "            # increment the number of correct guesses (output is equal to target)\n",
        "            correct += np.sum((indexOutput == indexTarget))\n",
        "\n",
        "        # 2.5.2. Compute the accuracy of the network: how many are correct from the total of predictions \n",
        "        #        (*100 as we want a percentage)\n",
        "        accuracy = correct / len(x) * 100\n",
        "        \n",
        "        # 2.5.3. Ajust the loss \n",
        "        loss /= len(x)\n",
        "        \n",
        "        return loss, accuracy"
      ],
      "execution_count": 0,
      "outputs": []
    },
    {
      "metadata": {
        "id": "UsME5X65sIBT",
        "colab_type": "text"
      },
      "cell_type": "markdown",
      "source": [
        "## 3. Construim și Antrenăm Rețeaua\n",
        "\n",
        "\n",
        "Câteva considerații de luat în seamă despre rețea pot fi văzute mai jos.\n",
        "\n",
        "**Input** \n",
        "    - 784 neuroni. \n",
        "    De ce? \n",
        "    Atâția pixeli am de fapt în imaginile care vin ca input. \n",
        "    Fiecare neuron este un pixel din imaginea de intrare.\n",
        "\n",
        "**Hidden**\n",
        "    - 100 neuroni. \n",
        "    De ce nu mai mulți decât pe stratul de intrare? \n",
        "    Pentru că vrem ca rețeaua să găsească niște pattern-uri în input care pot fi exprimate \n",
        "    într-o formă mai mică decât input-ul în sine. \n",
        "    Vrem un rezumat al input-ului. \n",
        "    Ca să obținem asta, obligăm rețeaua să o facă prin micșorarea numărului de neuroni de pe stratul ascuns.\n",
        "    - adevărul e că alegerea celor 100 de neuroni nu este una foarte științifică. E mai degrabă ceva empiric și de compromis, cumva bazat și pe faptul că la ieșire avem 10 noduri.\n",
        "    - nu există o rețetă după care să alegem câte noduri avem pe stratul ascuns. În general este bine să cunoaștem în profunzime problema cu care avem de-a face. Pe urmă mai este și experiența. Cu cât avansezi în domeniul acesta, îți va veni mai ușor să estimezi cât mai aproape de ideal acel număr.\n",
        "    \n",
        "**Output layer**\n",
        "    - Ce vrem să primim ca răspuns? \n",
        "    Vrem ca rețeaua să ne zică ce cifră avem în imagine. \n",
        "    Prin urmare este de ajuns să returneze un număr de la 0 la 9. \n",
        "    Cu alte cuvinte, pe ultimul strat vom avea 10 neuroni, \n",
        "    fiecare fiind responsabil cu a ne spune ce probabilitate are o cifră dat fiind input-ul. \n",
        "\n",
        "    Deeeci transformă label-ul în vector de 10 elemente, cu 1 pe poziția corespunzătoare cifrei din imagine.\n",
        "    \n",
        "    \n",
        "    3. Antrenarea are următorii pași simpli:\n",
        "        3.1. Se stabileşte un număr de epoci şi o dimensiune a batch-urilor ce sunt propagate la fiecare pas.\n",
        "        3.2. Se aplică pasul de forward pentru batch-ul respectiv (de la stânga la dreapta în reţea)\n",
        "        3.3. Se calculează eroarea pentru batch-ul respectiv (un singur număr)\n",
        "        3.4. Se aplică pasul de backward pentru batch-ul respectiv plecând de la eroarea calculată (de la dreapta\n",
        "             la stânga) şi se acumulează gradienţii pentru parametrii adaptivi (dW1, dW2)\n",
        "        3.5. Folosind algoritmul SGD, se updatează matricile de parametrii (W1, W2) după regula:\n",
        "             Wi[t+1] = Wi[t] - lr * dWi[t]\n",
        "        3.6. Se restează gradienţii pentru ca la următorul batch să nu se cumuleze: dWi *= 0\n",
        "        3.7. La finalul fiecărei epoci, se face un pas de forward pentru setul de validare, se calculează eroarea şi este afişată pentru a vedea dacă reţeaua învaţă.\n",
        "        3.8. Opţional, se salvează doar reţeaua cu cel mai bun loss (sau acurateţe) pe setul de validare.\n",
        "\n",
        "        O euristică ce poate fi ţinută minte în timpul implementării este următoarea: Dacă o anumită intrare are un shape, spre exemplu W1:(100, 10), atunci şi gradientul său va avea acelaşi shape: dW1:(100, 10).\n",
        "\n",
        "        De asemenea, implementarea foloseşte batch size-ul pe prima dimensiune. I:(MB, 28*28), y1:(MB, 100) etc. În schimb, matricile de weights-uri sunt independente de batch size, deci trebuie făcută o medie la calcularea gradienţilor (altfel efectiv mărim learning rate-ul artificial şi putem diverge antrenarea)\n",
        "\n",
        "        Eroarea, fiind de asemenea un singur număr se calculează ca o medie a batch-ului (grijă la dimensiuni).\n",
        "        a2:(MB, 10), T:(MB, 10), E:(MB, 10) -> (MB, ) -> (1, )"
      ]
    },
    {
      "metadata": {
        "id": "HkW9std9sIBU",
        "colab_type": "code",
        "colab": {}
      },
      "cell_type": "code",
      "source": [
        "def build_nn(no_input, no_hidden, no_output):\n",
        "    return NeuralNetwork(no_input=no_input, no_hidden=no_hidden, no_output=no_output)\n",
        "\n",
        "def build_and_train_nn(no_input, no_hidden, no_output, lr, num_train_data, epochs = 1, printMsg = False):\n",
        "    return train_nn(build_nn(no_input, no_hidden, no_output), lr, num_train_data, epochs, printMsg)\n",
        "\n",
        "def train_nn(nn, lr, num_train_data, epochs=1, printMsg = False):\n",
        "    assert epochs > 0\n",
        "    \n",
        "    train_x, train_t = getData(\"mnist_train.csv\", num_train_data)\n",
        "    val_x, val_t = getData(\"mnist_test.csv\")\n",
        "    \n",
        "    # 3.1. Epochs, batch size and number of steps\n",
        "    numEpochs = 20\n",
        "    MB = 20\n",
        "    numSteps = len(train_x) // MB + (len(train_x) % MB != 0)\n",
        "\n",
        "    print(\"Training a network using %d train images, batch size %d for %d epoch%s.\" \\\n",
        "          % (num_train_data, MB, epochs, \"s\" if epochs > 1 else \"\"))\n",
        "    \n",
        "    for epoch in range(epochs):\n",
        "        # Train: use all the samples in the dataset.\n",
        "        for i in range(numSteps):\n",
        "            # 3.2. Forward\n",
        "            # 3.2.1. Get the batch (inputs and targets): each time get the next MB samples\n",
        "            inputs = train_x[i * MB : min((i + 1) * MB, len(train_x))]\n",
        "            targets = train_t[i * MB : min((i + 1) * MB, len(train_t))]\n",
        "\n",
        "            # 3.2.2. Propagate the inputs through the network\n",
        "            out = nn.forward_pass(inputs)\n",
        "            \n",
        "            # 3.3. & 3.4. & 3.5. Compute the loss\n",
        "            loss = nn.backward(out, targets)\n",
        "            \n",
        "            # Print at each 100 steps\n",
        "            if printMsg and i % 100 == 0:\n",
        "                print(\"Epoch %d/%d. Iteration %d/%d. Loss: %2.2f\" % (epoch + 1, numEpochs, i, numSteps, loss), end=\"\\r\")\n",
        "            \n",
        "            # 3.6. Optimize\n",
        "            nn.optimize(lr=0.01, debug=(i % 100 == 0))\n",
        "        \n",
        "        # 3.7. Validation\n",
        "        loss, acc = nn.evaluate(val_x, val_t)\n",
        "        \n",
        "        if printMsg:\n",
        "            print(\"Epoch %d/%d. Val loss: %2.2f. Val acc: %2.2f\" % (epoch + 1, numEpochs, loss, acc))\n",
        "            \n",
        "    return nn"
      ],
      "execution_count": 0,
      "outputs": []
    },
    {
      "metadata": {
        "id": "Imd6cc7isIBX",
        "colab_type": "text"
      },
      "cell_type": "markdown",
      "source": [
        "## Experimentul 1\n",
        "\n",
        "### Antrenăm pe 100 exemple, cu 100 de noduri ascunse și learning rate 0.2\n",
        "\n",
        "O observație pe care o vom face aici este că avem o acuratețe extrem de mică. Dezamăgitoare.\n",
        "\n",
        "De ce? \n",
        "Gândiți-vă la complexitatea task-ului pe care îl are de făcut rețeaua. \n",
        "Iar noi îi arătăm doar 100 de imagini apoi avem pretenția să fie capabilă să clasifice corect alte imagini pe care nu le-a mai văzut până acum.\n",
        "\n",
        "Dar rețeaua asta are de diferențiat între 10 clase diferite (cifrele 0-9). \n",
        "Deci în setul de training noi avem maxim câte 10 exemple cu fiecare cifre. \n",
        "Gândiți-vă cât variază curbele și liniile pentru fiecare nou exemplu de cifră scrisă de mână. \n",
        "Rețeaua abia dacă a apucat să-și schițeze câte ceva despre fiecare cifră în timpul antrenamentului. \n",
        "E normală să greșească așa mult."
      ]
    },
    {
      "metadata": {
        "id": "zVDdAQRpsIBY",
        "colab_type": "code",
        "colab": {
          "base_uri": "https://localhost:8080/",
          "height": 51
        },
        "outputId": "3f018658-7501-4206-ee0f-162dbc5494a3"
      },
      "cell_type": "code",
      "source": [
        "# Set the number of neurons for the input, hidden and output layer.\n",
        "no_input = 784\n",
        "no_hidden = 100\n",
        "no_output = 10\n",
        "\n",
        "# Learning rate tells how fast we want the network to learn.\n",
        "lr = 0.2\n",
        "\n",
        "# Buid and train\n",
        "nn = build_and_train_nn(no_input, no_hidden, no_output, lr, 100)\n",
        "\n",
        "loss, acc = nn.evaluate(val_x, val_t)\n",
        "print(\"Val loss: %2.2f. Val acc: %2.2f\" % (loss, acc))"
      ],
      "execution_count": 45,
      "outputs": [
        {
          "output_type": "stream",
          "text": [
            "Training a network using 100 train images, batch size 20 for 1 epoch.\n",
            "Val loss: 0.92. Val acc: 5.02\n"
          ],
          "name": "stdout"
        }
      ]
    },
    {
      "metadata": {
        "id": "jKUUJa7asIBc",
        "colab_type": "text"
      },
      "cell_type": "markdown",
      "source": [
        "## Experimentul 2\n",
        "\n",
        "### Antrenăm pe tot setul de date\n",
        "\n",
        "Haideți să vedem ce se întâmplă dacă folosim tot setul de date (60.000 de exemple) pentru antrenare.\n",
        "\n",
        "O să observați o acuratețe de peste 60% până la 78%.\n",
        "De ce credeți că s-a întâmplat asta? Păi pentru simplul fapt că am adăugat mai multe date.\n",
        "În general asta e soluția care pare cea mai simplă."
      ]
    },
    {
      "metadata": {
        "id": "a95jGSbfsIBc",
        "colab_type": "code",
        "colab": {
          "base_uri": "https://localhost:8080/",
          "height": 51
        },
        "outputId": "73835dd5-0138-43fb-854b-ceb928d3e1b8"
      },
      "cell_type": "code",
      "source": [
        "# Buid and train\n",
        "nn = build_and_train_nn(no_input, no_hidden, no_output, lr, 60000)\n",
        "loss, acc = nn.evaluate(val_x, val_t)\n",
        "print(\"Val loss: %2.2f. Val acc: %2.2f\" % (loss, acc))"
      ],
      "execution_count": 46,
      "outputs": [
        {
          "output_type": "stream",
          "text": [
            "Training a network using 60000 train images, batch size 20 for 1 epoch.\n",
            "Val loss: 0.12. Val acc: 64.44\n"
          ],
          "name": "stdout"
        }
      ]
    },
    {
      "metadata": {
        "id": "Q3ADStotsIBg",
        "colab_type": "text"
      },
      "cell_type": "markdown",
      "source": [
        "## Experimentul 4\n",
        "\n",
        "### Ne jucăm puțin cu rata de învățare\n",
        "\n",
        "Haideți să vedem ce se întâmplă când nu avem de unde să mai adăugăm date.\n",
        "Pentru că... până la urmă datele în sine sunt greu de obținut. \n",
        "Un set de date presupune o colectare prealabilă a datelor, pregătirea lor (de exemplu scalare în cazul imaginilor din mai multe surse, vectorizare în cazul cuvintelor, etc.), apoi adnotarea lor (punere de etichete de mână) - un proces destul de dureros de multe ori, etc.\n",
        "\n",
        "Ce mai putem face?\n",
        "Să ne jucăm cu learning rate-ul: \n",
        "- mărim\n",
        "- micșorăm.\n",
        "\n",
        "În felul ăsta vedem pe unde ne situăm din punctul de vedere al dependenței acurateții de learning rate.\n",
        "\n",
        "Și mai util ar fi să facem mai multe antrenări și teste, cu diverse valori pentru learning rate, să plotăm un grafic și să ne tragem de acolo concluziile."
      ]
    },
    {
      "metadata": {
        "id": "XQrWLHqzsIBg",
        "colab_type": "code",
        "colab": {
          "base_uri": "https://localhost:8080/",
          "height": 51
        },
        "outputId": "52893413-eefc-491f-a5be-e6d55649e51c"
      },
      "cell_type": "code",
      "source": [
        "nn = build_and_train_nn(no_input, no_hidden, no_output, lr * 2, 60000)\n",
        "loss, acc = nn.evaluate(val_x, val_t)\n",
        "print(\"Val loss: %2.2f. Val acc: %2.2f\" % (loss, acc))"
      ],
      "execution_count": 47,
      "outputs": [
        {
          "output_type": "stream",
          "text": [
            "Training a network using 60000 train images, batch size 20 for 1 epoch.\n",
            "Val loss: 0.12. Val acc: 63.87\n"
          ],
          "name": "stdout"
        }
      ]
    },
    {
      "metadata": {
        "id": "qhbsV2_tsIBl",
        "colab_type": "code",
        "colab": {
          "base_uri": "https://localhost:8080/",
          "height": 51
        },
        "outputId": "5868447f-c8a0-4b39-f640-79296cede3c8"
      },
      "cell_type": "code",
      "source": [
        "nn = build_and_train_nn(no_input, no_hidden, no_output, lr / 4, 60000)\n",
        "loss, acc = nn.evaluate(val_x, val_t)\n",
        "print(\"Val loss: %2.2f. Val acc: %2.2f\" % (loss, acc))"
      ],
      "execution_count": 48,
      "outputs": [
        {
          "output_type": "stream",
          "text": [
            "Training a network using 60000 train images, batch size 20 for 1 epoch.\n",
            "Val loss: 0.12. Val acc: 63.30\n"
          ],
          "name": "stdout"
        }
      ]
    },
    {
      "metadata": {
        "id": "O8_BEzgGsIBp",
        "colab_type": "text"
      },
      "cell_type": "markdown",
      "source": [
        "## Experimentul 5\n",
        "\n",
        "### Rulat antrenare de mai multe ori\n",
        "\n",
        "Să zicem.. de 7 ori. Va trebui să așteptăm ceva dar o să merite :)\n",
        "\n",
        "De ce facem asta?\n",
        "Dacă facem gradient descent de mai multe ori, le dăm ocazia ponderilor să se rafineze mai mult. \n",
        "Aplicând gradient descent de mai multe ori dăm mai multe șanse de atingere a valorilor optime pentru acestea.\n",
        "\n",
        "O chestie pe care o vom observa aici este că dacă explorăm timp de mai multe epoci metoda gradient descent, o să ne permitem o rată de învățare mai mică."
      ]
    },
    {
      "metadata": {
        "id": "-EnToDJnsIBq",
        "colab_type": "code",
        "colab": {
          "base_uri": "https://localhost:8080/",
          "height": 51
        },
        "outputId": "bc1afc26-ce6e-454e-f7be-e20c36022a6e"
      },
      "cell_type": "code",
      "source": [
        "nn = build_and_train_nn(no_input, no_hidden, no_output, lr, 60000, epochs=7)\n",
        "loss, acc = nn.evaluate(val_x, val_t)\n",
        "print(\"Val loss: %2.2f. Val acc: %2.2f\" % (loss, acc))"
      ],
      "execution_count": 49,
      "outputs": [
        {
          "output_type": "stream",
          "text": [
            "Training a network using 60000 train images, batch size 20 for 7 epochs.\n",
            "Val loss: 0.05. Val acc: 84.83\n"
          ],
          "name": "stdout"
        }
      ]
    },
    {
      "metadata": {
        "id": "iaGh6eeBsIBt",
        "colab_type": "text"
      },
      "cell_type": "markdown",
      "source": [
        "## Experimentul 6\n",
        "\n",
        "### Schimbăm Arhitectura Rețelei\n",
        "\n",
        "Ce ar mai fi de schimbat?\n",
        "În principiu nu prea putem umbla la stratul de intrare/ieșire din moment ce numărul de neuroni de pe acestea se mapează pe structura datelor de intrare/ieșire.\n",
        "\n",
        "Ar mai rămâne layer-ul ascuns. Aici se întâmplă de fapt învățarea. \n",
        "Dacă privim din avion... aici ajunge input-ul nostru să devină ce vedem la ieșire. \n",
        "De fapt mă refer la ponderile de pe conexiunile de dinainte și după stratul de ieșire. \n",
        "Dar you get the point :)\n",
        "\n",
        "De ce nu e ok să avem mai puțin de 100 noduri?\n",
        "Becoz **learning capacity**. \n",
        "Pur și simplu nu avem cum să înghesuim atâta informație în atât de puțini neuroni.\n",
        "\n",
        "Putem seta la 200 numărul de hidden nodes.\n",
        "\n",
        "Nu uitați că timpul de rulare este direct proporțional cu acest număr. \n",
        "Deci trebuie să luăm și asta în calcul când decidem numărul de hidden nodes. \n",
        "Oricum, dacă facem un grafic al felului cum evoluează acuratețea odată cu creșterea numărului de neuroni de pe stratul de ieșire o să observăm că la un moment dat îmbunătățirile nu mai sunt semnificative indiferent cât am crește acest număr. \n",
        "Cu alte cuvinte, există o plafonare acolo."
      ]
    },
    {
      "metadata": {
        "id": "7vTPh9OpsIBt",
        "colab_type": "code",
        "colab": {
          "base_uri": "https://localhost:8080/",
          "height": 391
        },
        "outputId": "73ee45df-13f9-4a6f-a7eb-096018319e31"
      },
      "cell_type": "code",
      "source": [
        "no_hidden = 200\n",
        "nn2 = build_and_train_nn(no_input, no_hidden, no_output, 0.05, 60000, epochs=20, printMsg=True)\n",
        "loss, acc = nn2.evaluate(val_x, val_t)\n",
        "print(\"Val loss: %2.2f. Val acc: %2.2f\" % (loss, acc))"
      ],
      "execution_count": 50,
      "outputs": [
        {
          "output_type": "stream",
          "text": [
            "Training a network using 60000 train images, batch size 20 for 20 epochs.\n",
            "Epoch 1/20. Val loss: 0.14. Val acc: 68.78\n",
            "Epoch 2/20. Val loss: 0.09. Val acc: 77.02\n",
            "Epoch 3/20. Val loss: 0.08. Val acc: 80.77\n",
            "Epoch 4/20. Val loss: 0.07. Val acc: 82.88\n",
            "Epoch 5/20. Val loss: 0.06. Val acc: 84.05\n",
            "Epoch 6/20. Val loss: 0.06. Val acc: 84.95\n",
            "Epoch 7/20. Val loss: 0.05. Val acc: 85.85\n",
            "Epoch 8/20. Val loss: 0.05. Val acc: 86.53\n",
            "Epoch 9/20. Val loss: 0.05. Val acc: 87.15\n",
            "Epoch 10/20. Val loss: 0.05. Val acc: 87.51\n",
            "Epoch 11/20. Val loss: 0.04. Val acc: 87.86\n",
            "Epoch 12/20. Val loss: 0.04. Val acc: 88.09\n",
            "Epoch 13/20. Val loss: 0.04. Val acc: 88.37\n",
            "Epoch 14/20. Val loss: 0.04. Val acc: 88.66\n",
            "Epoch 15/20. Val loss: 0.04. Val acc: 88.87\n",
            "Epoch 16/20. Val loss: 0.04. Val acc: 89.18\n",
            "Epoch 17/20. Val loss: 0.04. Val acc: 89.41\n",
            "Epoch 18/20. Val loss: 0.04. Val acc: 89.59\n",
            "Epoch 19/20. Val loss: 0.03. Val acc: 89.77\n",
            "Epoch 20/20. Val loss: 0.03. Val acc: 89.84\n",
            "Val loss: 0.03. Val acc: 89.84\n"
          ],
          "name": "stdout"
        }
      ]
    },
    {
      "metadata": {
        "id": "i7tVaMDasIBx",
        "colab_type": "text"
      },
      "cell_type": "markdown",
      "source": [
        "## Bonus 1\n",
        "\n",
        "### Schimbare non-linearitate din sigmoid in ReLU\n",
        "Hint: https://stats.stackexchange.com/questions/226923/why-do-we-use-relu-in-neural-networks-and-how-do-we-use-it\n"
      ]
    },
    {
      "metadata": {
        "id": "0hcoj3EEsIBy",
        "colab_type": "code",
        "colab": {
          "base_uri": "https://localhost:8080/",
          "height": 391
        },
        "outputId": "5c4be374-ac32-4cbf-a91e-9dcc6ce426e5"
      },
      "cell_type": "code",
      "source": [
        "def relu(x):\n",
        "    return x * (x > 0)\n",
        "\n",
        "def grad_relu(x):\n",
        "    return x > 0\n",
        "\n",
        "class NeuralNetworkReLU(NeuralNetwork):\n",
        "    def forward_pass(self, inputs):\n",
        "        # 2.3. The forward pass: from the input layer to the outputs.\n",
        "\n",
        "        y1 = np.dot(inputs, self.W1)\n",
        "        # Change from sigmoid to relu\n",
        "        a1 = relu(y1)\n",
        "\n",
        "        y2 = np.dot(a1, self.W2)\n",
        "        a2 = softmax(y2)\n",
        "\n",
        "        return inputs, y1, a1, y2, a2      \n",
        "\n",
        "    def backward(self, outputs, targets):\n",
        "        # 2.4. Backpropagation\n",
        "        \n",
        "        I, y1, a1, y2, a2 = outputs\n",
        "        T = targets\n",
        "        E = self.loss(outputs, targets)\n",
        "        \n",
        "        dEdy2 = (a2 - T)\n",
        "        dEdW2 = np.dot(dEdy2.T, a1).T\n",
        "        self.dW2 += dEdW2 / len(targets)\n",
        "        dEda1 = np.dot(dEdy2, self.W2.T)\n",
        "        # Change from sigmoid's gradient to relu\n",
        "        # The gradient should be a mask of inputs that are positive, so we only update the\n",
        "        #  weights to these value.\n",
        "        dEdy1 = dEda1 * grad_relu(y1)\n",
        "        dEdw1 = np.dot(dEdy1.T, I).T\n",
        "        self.dW1 += dEdw1 / len(targets)\n",
        "\n",
        "        return E   \n",
        "\n",
        "nn_relu = NeuralNetworkReLU(784, 100, 10)\n",
        "nn_relu = train_nn(nn_relu, 0.05, 60000, epochs=20, printMsg=True)\n",
        "loss, acc = nn_relu.evaluate(val_x, val_t)\n",
        "print(\"Val loss: %2.2f. Val acc: %2.2f\" % (loss, acc))"
      ],
      "execution_count": 94,
      "outputs": [
        {
          "output_type": "stream",
          "text": [
            "Training a network using 60000 train images, batch size 20 for 20 epochs.\n",
            "Epoch 1/20. Val loss: 0.12. Val acc: 85.93\n",
            "Epoch 2/20. Val loss: 0.09. Val acc: 87.37\n",
            "Epoch 3/20. Val loss: 0.08. Val acc: 88.63\n",
            "Epoch 4/20. Val loss: 0.07. Val acc: 89.00\n",
            "Epoch 5/20. Val loss: 0.06. Val acc: 89.18\n",
            "Epoch 6/20. Val loss: 0.06. Val acc: 89.43\n",
            "Epoch 7/20. Val loss: 0.05. Val acc: 89.62\n",
            "Epoch 8/20. Val loss: 0.05. Val acc: 89.74\n",
            "Epoch 9/20. Val loss: 0.05. Val acc: 89.96\n",
            "Epoch 10/20. Val loss: 0.04. Val acc: 90.12\n",
            "Epoch 11/20. Val loss: 0.04. Val acc: 90.35\n",
            "Epoch 12/20. Val loss: 0.04. Val acc: 90.47\n",
            "Epoch 13/20. Val loss: 0.04. Val acc: 90.72\n",
            "Epoch 14/20. Val loss: 0.03. Val acc: 90.93\n",
            "Epoch 15/20. Val loss: 0.03. Val acc: 91.04\n",
            "Epoch 16/20. Val loss: 0.03. Val acc: 91.19\n",
            "Epoch 17/20. Val loss: 0.03. Val acc: 91.34\n",
            "Epoch 18/20. Val loss: 0.03. Val acc: 91.57\n",
            "Epoch 19/20. Val loss: 0.03. Val acc: 91.67\n",
            "Epoch 20/20. Val loss: 0.03. Val acc: 91.75\n",
            "Val loss: 0.03. Val acc: 91.75\n"
          ],
          "name": "stdout"
        }
      ]
    },
    {
      "metadata": {
        "id": "8bkBuKiMsIB1",
        "colab_type": "text"
      },
      "cell_type": "markdown",
      "source": [
        "## Bonus 2\n",
        "\n",
        "### Adăugare un nou strat intermediar. Noua arhitectura: 768 -> 300 -> 100 -> 10"
      ]
    },
    {
      "metadata": {
        "id": "yYDGJQK5sIB2",
        "colab_type": "code",
        "colab": {},
        "outputId": "a1d66913-1335-4475-eae9-60de8602eae8"
      },
      "cell_type": "code",
      "source": [
        "class NeuralNetwork2Hidden(NeuralNetwork):\n",
        "    def __init__(self, no_input, no_hidden1, no_hidden2, no_output):\n",
        "        # Define 3 parameter matrices and 3 gradient matrices (W1, W2, W3, dW1, dW2, dW3)\n",
        "        self.W1 = np.random.randn(no_input, no_hidden1)\n",
        "        self.W2 = np.random.randn(no_hidden1, no_hidden2)\n",
        "        self.W3 = np.random.randn(no_hidden2, no_output)\n",
        "\n",
        "        # 2.2.3. Matrices for gradients of each weight.\n",
        "        self.dW1 = np.zeros((no_input, no_hidden1))\n",
        "        self.dW2 = np.zeros((no_hidden1, no_hidden2))\n",
        "        self.dW3 = np.zeros((no_hidden2, no_output))\n",
        "    \n",
        "    def forward_pass(self, x):\n",
        "        # Compute a1 = relu(IxW1)\n",
        "        y1 = np.dot(x, self.W1)\n",
        "        a1 = sigmoid(y1)\n",
        "\n",
        "        # Compute a2 = sigmoid(a1xW2)\n",
        "        y2 = np.dot(a1, self.W2)\n",
        "        a2 = relu(y2)\n",
        "        \n",
        "        # Compute a3 = softmax(a2xW3)\n",
        "        y3 = np.dot(a2, self.W3)\n",
        "        a3 = softmax(y3)\n",
        "\n",
        "        return x, y1, a1, y2, a2, y3, a3\n",
        "    \n",
        "    def backward(self, outputs, targets):      \n",
        "        I, y1, a1, y2, a2, y3, a3 = outputs\n",
        "        T = targets\n",
        "        E = self.loss(outputs, targets)\n",
        "        \n",
        "        # This should be similar as before (1 hidden layer), but we need new formulas because\n",
        "        #  the network is deeper. \n",
        "        # Compute dE/dy3, dEdW3 (skip dE/da3 as before, because using softmax + NLL)\n",
        "        dEdy3 = (a3 - T)\n",
        "        dEdW3 = np.dot(dEdy3.T, a2).T\n",
        "        # Accumulate (batched) gradients in dW3\n",
        "        self.dW3 += dEdW3 / len(targets)\n",
        "\n",
        "        # Compute dE/da2, dE/dy2, dE/dw2\n",
        "        dEda2 = np.dot(dEdy3, self.W3.T)\n",
        "        dEdy2 = dEda2 * grad_relu(y2)\n",
        "        dEdw2 = np.dot(dEdy2.T, a1).T\n",
        "        # Accumulate (batched) gradients in dW2\n",
        "        self.dW2 += dEdw2 / len(targets)\n",
        "        \n",
        "        # Compute dE/da1, dE/dw1, dEdw1\n",
        "        dEda1 = np.dot(dEdy2, self.W2.T)\n",
        "        dEdy1 = dEda1 * grad_sigmoid(a1)\n",
        "        dEdw1 = np.dot(dEdy1.T, I).T\n",
        "         # Accumulate (batched) gradients in dW1\n",
        "        self.dW1 += dEdw1 / len(targets)\n",
        "\n",
        "        return E   \n",
        "\n",
        "    def optimize(self, lr, debug):\n",
        "        # Update all 3 matrices now\n",
        "        self.W1 -= lr * self.dW1\n",
        "        self.W2 -= lr * self.dW2\n",
        "        self.W3 -= lr * self.dW3\n",
        "        self.dW1 *= 0\n",
        "        self.dW2 *= 0\n",
        "        self.dW3 *= 0\n",
        "    \n",
        "nn_2hidden = NeuralNetwork2Hidden(784, 300, 100, 10)\n",
        "nn_2hidden = train_nn(nn_2hidden, 0.05, 60000, epochs=20, printMsg=True)\n",
        "loss, acc = nn_2hidden.evaluate(val_x, val_t)\n",
        "print(\"Val loss: %2.2f. Val acc: %2.2f\" % (loss, acc))"
      ],
      "execution_count": 0,
      "outputs": [
        {
          "output_type": "stream",
          "text": [
            "Training a network using 60000 train images, batch size 20 for 20 epochs.\n",
            "Epoch 1/20. Val loss: 0.12. Val acc: 79.274\n",
            "Epoch 2/20. Val loss: 0.07. Val acc: 79.758\n",
            "Epoch 3/20. Val loss: 0.06. Val acc: 81.464\n",
            "Epoch 4/20. Val loss: 0.05. Val acc: 82.903\n",
            "Epoch 5/20. Val loss: 0.05. Val acc: 84.072\n",
            "Epoch 6/20. Val loss: 0.04. Val acc: 84.930\n",
            "Epoch 7/20. Val loss: 0.04. Val acc: 85.589\n",
            "Epoch 8/20. Val loss: 0.04. Val acc: 86.328\n",
            "Epoch 9/20. Val loss: 0.04. Val acc: 86.817\n",
            "Epoch 10/20. Val loss: 0.04. Val acc: 87.367\n",
            "Epoch 11/20. Val loss: 0.04. Val acc: 87.717\n",
            "Epoch 12/20. Val loss: 0.03. Val acc: 88.086\n",
            "Epoch 13/20. Val loss: 0.03. Val acc: 88.476\n",
            "Epoch 14/20. Val loss: 0.03. Val acc: 88.736\n",
            "Epoch 15/20. Val loss: 0.03. Val acc: 88.946\n",
            "Epoch 16/20. Val loss: 0.03. Val acc: 89.066\n",
            "Epoch 17/20. Val loss: 0.03. Val acc: 89.286\n",
            "Epoch 18/20. Val loss: 0.03. Val acc: 89.565\n",
            "Epoch 19/20. Val loss: 0.03. Val acc: 89.645\n",
            "Epoch 20/20. Val loss: 0.03. Val acc: 89.794\n",
            "Val loss: 0.03. Val acc: 89.79\n"
          ],
          "name": "stdout"
        }
      ]
    },
    {
      "metadata": {
        "id": "zfuCqFNfsmWV",
        "colab_type": "text"
      },
      "cell_type": "markdown",
      "source": [
        "## Bonus 3\n",
        "\n",
        "Testăm pe exemple create de noi în paint :).\n",
        "Aveţi grijă să fie de dimensiunea (28, 28) !"
      ]
    },
    {
      "metadata": {
        "id": "gjZiSb9osooX",
        "colab_type": "code",
        "colab": {
          "resources": {
            "http://localhost:8080/nbextensions/google.colab/files.js": {
              "data": "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",
              "ok": true,
              "headers": [
                [
                  "content-type",
                  "application/javascript"
                ]
              ],
              "status": 200,
              "status_text": ""
            }
          },
          "base_uri": "https://localhost:8080/",
          "height": 355
        },
        "outputId": "1878caa5-1afd-4a8b-f4f1-9b6cf8345aee"
      },
      "cell_type": "code",
      "source": [
        "from google.colab import files\n",
        "from scipy import misc\n",
        "\n",
        "!rm my_digit*\n",
        "uploaded = files.upload()\n",
        "\n",
        "image = np.array(misc.imread(\"my_digit.png\"))[..., 0]\n",
        "image = np.float32(image) / 255\n",
        "plot.imshow(image, cmap='Greys', interpolation=None)\n",
        "\n",
        "image = image.reshape((1, 28 * 28))\n",
        "result = nn_relu.forward_pass(image)[-1]\n",
        "\n",
        "np.set_printoptions(precision=3, suppress=True)\n",
        "print(result)\n",
        "print(np.argmax(result))"
      ],
      "execution_count": 99,
      "outputs": [
        {
          "output_type": "display_data",
          "data": {
            "text/html": [
              "\n",
              "     <input type=\"file\" id=\"files-37030b3e-cc0d-4d27-8208-65b90eed2e38\" name=\"files[]\" multiple disabled />\n",
              "     <output id=\"result-37030b3e-cc0d-4d27-8208-65b90eed2e38\">\n",
              "      Upload widget is only available when the cell has been executed in the\n",
              "      current browser session. Please rerun this cell to enable.\n",
              "      </output>\n",
              "      <script src=\"/nbextensions/google.colab/files.js\"></script> "
            ],
            "text/plain": [
              "<IPython.core.display.HTML object>"
            ]
          },
          "metadata": {
            "tags": []
          }
        },
        {
          "output_type": "stream",
          "text": [
            "Saving my_digit.png to my_digit.png\n",
            "[[0.    0.997 0.001 0.001 0.    0.    0.    0.    0.    0.   ]]\n",
            "1\n"
          ],
          "name": "stdout"
        },
        {
          "output_type": "display_data",
          "data": {
            "image/png": "[encoded data removed]",
            "text/plain": [
              "<matplotlib.figure.Figure at 0x7f09d865bba8>"
            ]
          },
          "metadata": {
            "tags": []
          }
        }
      ]
    },
    {
      "metadata": {
        "id": "VoyS9SmvsrHN",
        "colab_type": "text"
      },
      "cell_type": "markdown",
      "source": [
        ""
      ]
    }
  ]
}